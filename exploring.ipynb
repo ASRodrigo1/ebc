{
 "cells": [
  {
   "cell_type": "code",
   "execution_count": 120,
   "metadata": {},
   "outputs": [],
   "source": [
    "PATTERN_CURRENT_STAKING_DOLLARS = r\"\\$\\d{1,3}(,\\d{3})*(\\.\\d{2})?\"\n",
    "PATTERN_EBC_STAKING = r\"\\d{1,3}(,\\d{3})*(\\.\\d+)?(?=\\sEBC)\"\n",
    "PATTERN_HOLDERS = r\"\\d{1,3}(,\\d{3})*\"\n",
    "PATTERN_EBC_VALUE = r\"\\$\\d+(\\.\\d{1,4})?\"\n",
    "PATTERN_MARKETCAP = r\"\\$\\d{1,3}(,\\d{3})*(\\.\\d{2})?\"\n",
    "HEADERS = {\n",
    "    \"User-Agent\": \"Mozilla/5.0 (Windows NT 10.0; Win64; x64) AppleWebKit/537.36 (KHTML, like Gecko) Chrome/91.0.4472.124 Safari/537.36\"\n",
    "}\n",
    "STAKING_URL = f\"https://polygonscan.com/address/0xDEb03f15098921989Bd554395a4E6745Fc2755E4\"\n",
    "TOTALS_URL = f\"https://polygonscan.com/token/0x3f7ca3e85305aed836636999d054519f6ccc4056\""
   ]
  },
  {
   "cell_type": "code",
   "execution_count": 121,
   "metadata": {},
   "outputs": [],
   "source": [
    "from bs4 import BeautifulSoup\n",
    "import requests\n",
    "import re"
   ]
  },
  {
   "cell_type": "code",
   "execution_count": 122,
   "metadata": {},
   "outputs": [],
   "source": [
    "def fetch_page(url, headers, retries=3):\n",
    "    \"\"\"Tenta buscar a página com retries.\"\"\"\n",
    "    for _ in range(retries):\n",
    "        response = requests.get(url, headers=headers)\n",
    "        if response.status_code == 200:\n",
    "            return response\n",
    "    return None"
   ]
  },
  {
   "cell_type": "code",
   "execution_count": 123,
   "metadata": {},
   "outputs": [],
   "source": [
    "def extract_staking_value(html):\n",
    "    \"\"\"Extrai o valor em dólares do staking usando BeautifulSoup e regex.\"\"\"\n",
    "    soup = BeautifulSoup(html, \"html.parser\")\n",
    "    button = soup.find(\"button\", {\"id\": \"dropdownMenuBalance\"})\n",
    "    if not button:\n",
    "        raise ValueError(\"Elemento com ID 'dropdownMenuBalance' não encontrado.\")\n",
    "    \n",
    "    text = button.text\n",
    "    match = re.search(PATTERN_CURRENT_STAKING_DOLLARS, text)\n",
    "    if not match:\n",
    "        raise ValueError(\"Valor em dólares não encontrado no texto do botão.\")\n",
    "    \n",
    "    # Converte o valor para float\n",
    "    value = float(match.group(0).strip(\"$\").replace(\",\", \"\"))\n",
    "    return value\n",
    "\n",
    "def get_current_staking_dollars():\n",
    "    \"\"\"Função principal para obter o valor de staking.\"\"\"\n",
    "    response = fetch_page(STAKING_URL, HEADERS)\n",
    "    if not response:\n",
    "        raise ConnectionError(\"Falha ao obter a página após múltiplas tentativas.\")\n",
    "    \n",
    "    try:\n",
    "        value = extract_staking_value(response.content)\n",
    "        return value\n",
    "    except Exception as e:\n",
    "        print(f\"Erro ao extrair valor de staking: {e}\")\n",
    "        return None"
   ]
  },
  {
   "cell_type": "code",
   "execution_count": 124,
   "metadata": {},
   "outputs": [],
   "source": [
    "def extract_ebc_staking(html):\n",
    "    \"\"\"Extrai a quantidade de EBC em staking.\"\"\"\n",
    "    soup = BeautifulSoup(html, \"html.parser\")\n",
    "    # Procura o <span> que contém \"EBC\"\n",
    "    staking_span = soup.find(\"span\", class_=\"text-muted\", string=re.compile(r\"EBC\"))\n",
    "    if not staking_span:\n",
    "        raise ValueError(\"Elemento contendo a quantidade de EBC em staking não encontrado.\")\n",
    "    \n",
    "    # Usa regex para capturar o número antes de \"EBC\"\n",
    "    match = re.search(PATTERN_EBC_STAKING, staking_span.text)\n",
    "    if not match:\n",
    "        raise ValueError(\"Valor de EBC não encontrado no texto do elemento.\")\n",
    "    \n",
    "    # Remove vírgulas e converte para float\n",
    "    staking_value = float(match.group(0).replace(\",\", \"\"))\n",
    "    return staking_value\n",
    "\n",
    "def get_ebc_staking_quantity():\n",
    "    \"\"\"Função principal para obter a quantidade de EBC em staking.\"\"\"\n",
    "    response = fetch_page(STAKING_URL, HEADERS)\n",
    "    if not response:\n",
    "        raise ConnectionError(\"Falha ao obter a página após múltiplas tentativas.\")\n",
    "    \n",
    "    try:\n",
    "        value = extract_ebc_staking(response.content)\n",
    "        return value\n",
    "    except Exception as e:\n",
    "        print(f\"Erro ao extrair quantidade de EBC em staking: {e}\")\n",
    "        return None"
   ]
  },
  {
   "cell_type": "code",
   "execution_count": 125,
   "metadata": {},
   "outputs": [],
   "source": [
    "def extract_holders(html):\n",
    "    \"\"\"Extrai o total de holders.\"\"\"\n",
    "    soup = BeautifulSoup(html, \"html.parser\")\n",
    "    # Encontra o elemento que contém os holders\n",
    "    holders_div = soup.find(\"div\", class_=\"d-flex flex-wrap gap-2\")\n",
    "    if not holders_div:\n",
    "        raise ValueError(\"Elemento contendo o total de holders não encontrado.\")\n",
    "    \n",
    "    # Usa regex para capturar o número\n",
    "    match = re.search(PATTERN_HOLDERS, holders_div.text)\n",
    "    if not match:\n",
    "        raise ValueError(\"Total de holders não encontrado.\")\n",
    "    \n",
    "    # Remove vírgulas e converte para inteiro\n",
    "    holders = int(match.group(0).replace(\",\", \"\"))\n",
    "    return holders\n",
    "\n",
    "def get_holders():\n",
    "    \"\"\"Função principal para obter o total de holders.\"\"\"\n",
    "    response = fetch_page(TOTALS_URL, HEADERS)\n",
    "    if not response:\n",
    "        raise ConnectionError(\"Falha ao obter a página após múltiplas tentativas.\")\n",
    "    \n",
    "    try:\n",
    "        holders = extract_holders(response.content)\n",
    "        return holders\n",
    "    except Exception as e:\n",
    "        print(f\"Erro ao extrair total de holders: {e}\")\n",
    "        return None"
   ]
  },
  {
   "cell_type": "code",
   "execution_count": 126,
   "metadata": {},
   "outputs": [],
   "source": [
    "def extract_ebc_value(html):\n",
    "    \"\"\"Extrai o valor do EBC em dólares.\"\"\"\n",
    "    soup = BeautifulSoup(html, \"html.parser\")\n",
    "    \n",
    "    # Localiza a div específica pelo ID\n",
    "    value_div = soup.find(\"div\", id=\"ContentPlaceHolder1_tr_valuepertoken\")\n",
    "    if not value_div:\n",
    "        raise ValueError(\"Div com ID 'ContentPlaceHolder1_tr_valuepertoken' não encontrada.\")\n",
    "    \n",
    "    # Busca o span que contém o valor do preço do EBC\n",
    "    value_span = value_div.find(\"span\", {\"data-bs-toggle\": \"tooltip\", \"data-bs-html\": \"true\"})\n",
    "    if not value_span:\n",
    "        raise ValueError(\"Elemento contendo o valor do EBC não encontrado dentro da div.\")\n",
    "    \n",
    "    # Extrai o valor do texto\n",
    "    value_text = value_span.text.strip(\"$\")\n",
    "    try:\n",
    "        ebc_value = float(value_text)\n",
    "        return ebc_value\n",
    "    except ValueError:\n",
    "        raise ValueError(f\"Valor '{value_text}' não é um número válido.\")\n",
    "\n",
    "def get_ebc_value():\n",
    "    \"\"\"Função principal para obter o valor do EBC em dólares.\"\"\"\n",
    "    response = fetch_page(TOTALS_URL, HEADERS)\n",
    "    if not response:\n",
    "        raise ConnectionError(\"Falha ao obter a página após múltiplas tentativas.\")\n",
    "    \n",
    "    try:\n",
    "        value = extract_ebc_value(response.content)\n",
    "        return value\n",
    "    except Exception as e:\n",
    "        print(f\"Erro ao extrair valor do EBC: {e}\")\n",
    "        return None"
   ]
  },
  {
   "cell_type": "code",
   "execution_count": 127,
   "metadata": {},
   "outputs": [],
   "source": [
    "def extract_marketcap(html):\n",
    "    \"\"\"Extrai o valor do Market Cap.\"\"\"\n",
    "    soup = BeautifulSoup(html, \"html.parser\")\n",
    "    \n",
    "    # Localiza a div pelo ID específico\n",
    "    marketcap_div = soup.find(\"div\", id=\"ContentPlaceHolder1_tr_marketcap\")\n",
    "    if not marketcap_div:\n",
    "        raise ValueError(\"Div com ID 'ContentPlaceHolder1_tr_marketcap' não encontrada.\")\n",
    "    \n",
    "    # Extrai o texto do valor do Market Cap\n",
    "    marketcap_text = marketcap_div.text\n",
    "    match = re.search(PATTERN_MARKETCAP, marketcap_text)\n",
    "    if not match:\n",
    "        raise ValueError(\"Valor do Market Cap não encontrado no texto da div.\")\n",
    "    \n",
    "    # Remove o símbolo $ e as vírgulas, depois converte para float\n",
    "    marketcap_value = float(match.group(0).replace(\",\", \"\").strip(\"$\"))\n",
    "    return marketcap_value\n",
    "\n",
    "def get_marketcap():\n",
    "    \"\"\"Função principal para obter o Market Cap.\"\"\"\n",
    "    response = fetch_page(TOTALS_URL, HEADERS)\n",
    "    if not response:\n",
    "        raise ConnectionError(\"Falha ao obter a página após múltiplas tentativas.\")\n",
    "    \n",
    "    try:\n",
    "        value = extract_marketcap(response.content)\n",
    "        return value\n",
    "    except Exception as e:\n",
    "        print(f\"Erro ao extrair Market Cap: {e}\")\n",
    "        return None"
   ]
  },
  {
   "cell_type": "code",
   "execution_count": 128,
   "metadata": {},
   "outputs": [
    {
     "data": {
      "text/plain": [
       "15696342.15"
      ]
     },
     "execution_count": 128,
     "metadata": {},
     "output_type": "execute_result"
    }
   ],
   "source": [
    "get_current_staking_dollars()"
   ]
  },
  {
   "cell_type": "code",
   "execution_count": 129,
   "metadata": {},
   "outputs": [
    {
     "data": {
      "text/plain": [
       "64919122.0"
      ]
     },
     "execution_count": 129,
     "metadata": {},
     "output_type": "execute_result"
    }
   ],
   "source": [
    "get_ebc_staking_quantity()"
   ]
  },
  {
   "cell_type": "code",
   "execution_count": 130,
   "metadata": {},
   "outputs": [
    {
     "data": {
      "text/plain": [
       "19619"
      ]
     },
     "execution_count": 130,
     "metadata": {},
     "output_type": "execute_result"
    }
   ],
   "source": [
    "get_holders()"
   ]
  },
  {
   "cell_type": "code",
   "execution_count": 131,
   "metadata": {},
   "outputs": [
    {
     "data": {
      "text/plain": [
       "0.2418"
      ]
     },
     "execution_count": 131,
     "metadata": {},
     "output_type": "execute_result"
    }
   ],
   "source": [
    "get_ebc_value()"
   ]
  },
  {
   "cell_type": "code",
   "execution_count": 132,
   "metadata": {},
   "outputs": [
    {
     "data": {
      "text/plain": [
       "331242753.7"
      ]
     },
     "execution_count": 132,
     "metadata": {},
     "output_type": "execute_result"
    }
   ],
   "source": [
    "get_marketcap()"
   ]
  },
  {
   "cell_type": "code",
   "execution_count": null,
   "metadata": {},
   "outputs": [],
   "source": []
  }
 ],
 "metadata": {
  "kernelspec": {
   "display_name": ".venv",
   "language": "python",
   "name": "python3"
  },
  "language_info": {
   "codemirror_mode": {
    "name": "ipython",
    "version": 3
   },
   "file_extension": ".py",
   "mimetype": "text/x-python",
   "name": "python",
   "nbconvert_exporter": "python",
   "pygments_lexer": "ipython3",
   "version": "3.13.0"
  }
 },
 "nbformat": 4,
 "nbformat_minor": 2
}
